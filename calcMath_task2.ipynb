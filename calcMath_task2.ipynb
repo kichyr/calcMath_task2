{
 "cells": [
  {
   "cell_type": "code",
   "execution_count": 29,
   "metadata": {},
   "outputs": [],
   "source": [
    "import numpy as np\n",
    "import matplotlib.pyplot as plt\n",
    "import math"
   ]
  },
  {
   "cell_type": "code",
   "execution_count": 33,
   "metadata": {},
   "outputs": [],
   "source": [
    "### make our test function ###\n",
    "class Func:\n",
    "    def __init__(self, A, B):\n",
    "        self.a = 1 - 3.0 * B + 3.0 * A\n",
    "        self.b = 3.0 * B - 6 * A\n",
    "        self.c = 3 * A\n",
    "        self.d = -1.0\n",
    "    def foo(self, x, y):\n",
    "        self.d = -min(math.sqrt(x ** 2 + y ** 2), 1)\n",
    "        t = 0.5\n",
    "        for i in range(1,6):\n",
    "            t = t - (self.a * t ** 3 + self.b * t ** 2 + self.c * t + self.d) / (3 * self.a * t ** 2 + 2 * self.b * t + self.c)\n",
    "        return (1 - t) ** 3 + 3 * (1 - t) ** 2 * t"
   ]
  },
  {
   "cell_type": "code",
   "execution_count": 34,
   "metadata": {},
   "outputs": [],
   "source": [
    "### gris step, and domain of fun\n",
    "step = 10 ** (-1)\n",
    "interaval_x = np.arange(-10, 10, step)\n",
    "interaval_y = np.arange(-10, 10, step)\n",
    "\n",
    "A = 0.4\n",
    "B = 0.2\n",
    "f = Func(A, B)"
   ]
  },
  {
   "cell_type": "code",
   "execution_count": 36,
   "metadata": {},
   "outputs": [
    {
     "data": {
      "application/vnd.plotly.v1+json": {
       "data": [
        {
         "type": "surface",
         "uid": "e0ea44d4-de4c-11e9-a7b3-a8a7952488f9",
         "z": [
          [
           8.83,
           8.89,
           8.81,
           8.87,
           8.9,
           8.87
          ],
          [
           8.89,
           8.94,
           8.85,
           8.94,
           8.96,
           8.92
          ],
          [
           8.84,
           8.9,
           8.82,
           8.92,
           8.93,
           8.91
          ],
          [
           8.79,
           8.85,
           8.79,
           8.9,
           8.94,
           8.92
          ],
          [
           8.79,
           8.88,
           8.81,
           8.9,
           8.95,
           8.92
          ],
          [
           8.8,
           8.82,
           8.78,
           8.91,
           8.94,
           8.92
          ],
          [
           8.75,
           8.78,
           8.77,
           8.91,
           8.95,
           8.92
          ],
          [
           8.8,
           8.8,
           8.77,
           8.91,
           8.95,
           8.94
          ],
          [
           8.74,
           8.81,
           8.76,
           8.93,
           8.98,
           8.99
          ],
          [
           8.89,
           8.99,
           8.92,
           9.1,
           9.13,
           9.11
          ],
          [
           8.97,
           8.97,
           8.91,
           9.09,
           9.11,
           9.11
          ],
          [
           9.04,
           9.08,
           9.05,
           9.25,
           9.28,
           9.27
          ],
          [
           9,
           9.01,
           9,
           9.2,
           9.23,
           9.2
          ],
          [
           8.99,
           8.99,
           8.98,
           9.18,
           9.2,
           9.19
          ],
          [
           8.93,
           8.97,
           8.97,
           9.18,
           9.2,
           9.18
          ]
         ]
        }
       ],
       "layout": {}
      },
      "text/html": [
       "<div id=\"86aa0642-8f46-431f-8580-3afbf0318428\" style=\"height: 525px; width: 100%;\" class=\"plotly-graph-div\"></div><script type=\"text/javascript\">require([\"plotly\"], function(Plotly) { window.PLOTLYENV=window.PLOTLYENV || {};window.PLOTLYENV.BASE_URL=\"https://plot.ly\";\n",
       "        Plotly.plot(\n",
       "            '86aa0642-8f46-431f-8580-3afbf0318428',\n",
       "            [{\"z\": [[8.83, 8.89, 8.81, 8.87, 8.9, 8.87], [8.89, 8.94, 8.85, 8.94, 8.96, 8.92], [8.84, 8.9, 8.82, 8.92, 8.93, 8.91], [8.79, 8.85, 8.79, 8.9, 8.94, 8.92], [8.79, 8.88, 8.81, 8.9, 8.95, 8.92], [8.8, 8.82, 8.78, 8.91, 8.94, 8.92], [8.75, 8.78, 8.77, 8.91, 8.95, 8.92], [8.8, 8.8, 8.77, 8.91, 8.95, 8.94], [8.74, 8.81, 8.76, 8.93, 8.98, 8.99], [8.89, 8.99, 8.92, 9.1, 9.13, 9.11], [8.97, 8.97, 8.91, 9.09, 9.11, 9.11], [9.04, 9.08, 9.05, 9.25, 9.28, 9.27], [9.0, 9.01, 9.0, 9.2, 9.23, 9.2], [8.99, 8.99, 8.98, 9.18, 9.2, 9.19], [8.93, 8.97, 8.97, 9.18, 9.2, 9.18]], \"type\": \"surface\", \"uid\": \"e0ea44d4-de4c-11e9-a7b3-a8a7952488f9\"}],\n",
       "            {},\n",
       "            {\"showLink\": true, \"linkText\": \"Export to plot.ly\"}\n",
       "        ).then(function () {return Plotly.addFrames('86aa0642-8f46-431f-8580-3afbf0318428',{});}).then(function(){Plotly.animate('86aa0642-8f46-431f-8580-3afbf0318428');})\n",
       "        });</script>"
      ],
      "text/vnd.plotly.v1+html": [
       "<div id=\"86aa0642-8f46-431f-8580-3afbf0318428\" style=\"height: 525px; width: 100%;\" class=\"plotly-graph-div\"></div><script type=\"text/javascript\">require([\"plotly\"], function(Plotly) { window.PLOTLYENV=window.PLOTLYENV || {};window.PLOTLYENV.BASE_URL=\"https://plot.ly\";\n",
       "        Plotly.plot(\n",
       "            '86aa0642-8f46-431f-8580-3afbf0318428',\n",
       "            [{\"z\": [[8.83, 8.89, 8.81, 8.87, 8.9, 8.87], [8.89, 8.94, 8.85, 8.94, 8.96, 8.92], [8.84, 8.9, 8.82, 8.92, 8.93, 8.91], [8.79, 8.85, 8.79, 8.9, 8.94, 8.92], [8.79, 8.88, 8.81, 8.9, 8.95, 8.92], [8.8, 8.82, 8.78, 8.91, 8.94, 8.92], [8.75, 8.78, 8.77, 8.91, 8.95, 8.92], [8.8, 8.8, 8.77, 8.91, 8.95, 8.94], [8.74, 8.81, 8.76, 8.93, 8.98, 8.99], [8.89, 8.99, 8.92, 9.1, 9.13, 9.11], [8.97, 8.97, 8.91, 9.09, 9.11, 9.11], [9.04, 9.08, 9.05, 9.25, 9.28, 9.27], [9.0, 9.01, 9.0, 9.2, 9.23, 9.2], [8.99, 8.99, 8.98, 9.18, 9.2, 9.19], [8.93, 8.97, 8.97, 9.18, 9.2, 9.18]], \"type\": \"surface\", \"uid\": \"e0ea44d4-de4c-11e9-a7b3-a8a7952488f9\"}],\n",
       "            {},\n",
       "            {\"showLink\": true, \"linkText\": \"Export to plot.ly\"}\n",
       "        ).then(function () {return Plotly.addFrames('86aa0642-8f46-431f-8580-3afbf0318428',{});}).then(function(){Plotly.animate('86aa0642-8f46-431f-8580-3afbf0318428');})\n",
       "        });</script>"
      ]
     },
     "metadata": {},
     "output_type": "display_data"
    }
   ],
   "source": [
    "### draw func\n",
    "from plotly import graph_objs as go\n",
    "\n",
    "z = np.array([])\n",
    "\n",
    "for x in interaval_x:\n",
    "    temp = []\n",
    "    for y in interaval_y:\n",
    "        temp.append(f.foo(x, y))\n",
    "    z = np.append(z, temp)\n",
    "    \n",
    "\n",
    "z2 = z1 + 1\n",
    "z3 = z1 - 1\n",
    "\n",
    "fig = go.Figure(data=[\n",
    "    go.Surface(z=z1),\n",
    "\n",
    "])\n",
    "\n",
    "pyo.iplot(fig, filename = 'basic-line')"
   ]
  },
  {
   "cell_type": "code",
   "execution_count": null,
   "metadata": {},
   "outputs": [],
   "source": []
  },
  {
   "cell_type": "code",
   "execution_count": null,
   "metadata": {},
   "outputs": [],
   "source": []
  }
 ],
 "metadata": {
  "kernelspec": {
   "display_name": "Python 3",
   "language": "python",
   "name": "python3"
  },
  "language_info": {
   "codemirror_mode": {
    "name": "ipython",
    "version": 3
   },
   "file_extension": ".py",
   "mimetype": "text/x-python",
   "name": "python",
   "nbconvert_exporter": "python",
   "pygments_lexer": "ipython3",
   "version": "3.7.3"
  }
 },
 "nbformat": 4,
 "nbformat_minor": 2
}
